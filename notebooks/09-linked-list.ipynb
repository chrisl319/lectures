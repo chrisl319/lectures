{
 "cells": [
  {
   "attachments": {},
   "cell_type": "markdown",
   "metadata": {
    "state": "normal"
   },
   "source": [
    "# Linked Lists\n",
    "\n",
    "## Agenda\n",
    "\n",
    "1. The `LinkedList` and `Node` classes  \n",
    "2. Implementing `append`\n",
    "3. Implementing deletion\n",
    "4. Bidirectional links (Doubly-linked list) & Sentinel head\n",
    "5. Incorporating a \"cursor\"\n",
    "6. Search?\n",
    "7. Run-time analysis"
   ]
  },
  {
   "attachments": {},
   "cell_type": "markdown",
   "metadata": {
    "state": "normal"
   },
   "source": [
    "## 1. The `LinkedList` and `Node` classes"
   ]
  },
  {
   "cell_type": "code",
   "execution_count": 46,
   "metadata": {
    "state": "normal"
   },
   "outputs": [],
   "source": [
    "class LinkedList:\n",
    "    class Node:\n",
    "        def __init__(self, val, next=None):\n",
    "            self.val = val\n",
    "            self.next = next\n",
    "    \n",
    "    def __init__(self):\n",
    "        self.head = None\n",
    "        self.size = 0\n",
    "    \n",
    "    def prepend(self, value):\n",
    "        self.head = LinkedList.Node(value, next=self.head)\n",
    "        self.size += 1\n",
    "    \n",
    "    def __len__(self):\n",
    "        return self.size\n",
    "        \n",
    "    def __iter__(self):\n",
    "        n = self.head\n",
    "        while n:    #while we haven't reached the end of the list\n",
    "            yield n.val #process element at the current node\n",
    "            n = n.next  #advance the current node reference\n",
    "    \n",
    "    def __repr__(self):\n",
    "        return '[' + ', '.join(repr(x) for x in self) + ']'"
   ]
  },
  {
   "cell_type": "code",
   "execution_count": 47,
   "metadata": {
    "state": "normal"
   },
   "outputs": [
    {
     "data": {
      "text/plain": [
       "[9, 8, 7, 6, 5, 4, 3, 2, 1, 0]"
      ]
     },
     "execution_count": 47,
     "metadata": {},
     "output_type": "execute_result"
    }
   ],
   "source": [
    "lst = LinkedList()\n",
    "for i in range(10):\n",
    "    lst.prepend(i)\n",
    "lst"
   ]
  },
  {
   "cell_type": "code",
   "execution_count": 48,
   "metadata": {},
   "outputs": [
    {
     "data": {
      "text/plain": [
       "10"
      ]
     },
     "execution_count": 48,
     "metadata": {},
     "output_type": "execute_result"
    }
   ],
   "source": [
    "len(lst)    #same as lst.__len__()"
   ]
  },
  {
   "attachments": {},
   "cell_type": "markdown",
   "metadata": {
    "state": "normal"
   },
   "source": [
    "## 2. Implementing `append`"
   ]
  },
  {
   "attachments": {},
   "cell_type": "markdown",
   "metadata": {
    "state": "normal"
   },
   "source": [
    "### Option 1"
   ]
  },
  {
   "cell_type": "code",
   "execution_count": 49,
   "metadata": {
    "state": "normal"
   },
   "outputs": [],
   "source": [
    "class LinkedList (LinkedList): # inheriting from prior definition\n",
    "    def append(self, value):    # == O(N) --- dreadful\n",
    "        if self.head is None:   #if the list is empty\n",
    "            self.prepend(value)\n",
    "        else:\n",
    "            #locate the last node\n",
    "            n = self.head\n",
    "            while n.next is not None:   #until we find a node whose next is none\n",
    "                n = n.next\n",
    "            n.next = LinkedList.Node(value)\n",
    "            self.size += 1"
   ]
  },
  {
   "cell_type": "code",
   "execution_count": 50,
   "metadata": {
    "state": "normal"
   },
   "outputs": [
    {
     "data": {
      "text/plain": [
       "[0, 1, 2, 3, 4, 5, 6, 7, 8, 9]"
      ]
     },
     "execution_count": 50,
     "metadata": {},
     "output_type": "execute_result"
    }
   ],
   "source": [
    "lst = LinkedList()\n",
    "for i in range(10):\n",
    "    lst.append(i)\n",
    "lst"
   ]
  },
  {
   "cell_type": "code",
   "execution_count": 51,
   "metadata": {},
   "outputs": [
    {
     "data": {
      "text/plain": [
       "10"
      ]
     },
     "execution_count": 51,
     "metadata": {},
     "output_type": "execute_result"
    }
   ],
   "source": [
    "len(lst)"
   ]
  },
  {
   "attachments": {},
   "cell_type": "markdown",
   "metadata": {
    "state": "normal"
   },
   "source": [
    "### Option 2"
   ]
  },
  {
   "cell_type": "code",
   "execution_count": 52,
   "metadata": {
    "state": "normal"
   },
   "outputs": [],
   "source": [
    "class LinkedList (LinkedList):\n",
    "    def __init__(self):\n",
    "        self.head = self.tail = None\n",
    "        self.size = 0\n",
    "        \n",
    "    def prepend(self, value):   # O(1)\n",
    "        self.head = LinkedList.Node(value, next=self.head)\n",
    "        if self.tail is None:\n",
    "            self.tail = self.head\n",
    "        self.size += 1\n",
    "        \n",
    "    def append(self, value):    # O(1)\n",
    "        if self.head is None:\n",
    "            self.prepend(value)\n",
    "        else:\n",
    "            self.tail.next = LinkedList.Node(value)\n",
    "            self.tail = self.tail.next\n",
    "            # self.tail.next = self.tail = LinkedList.Node(value) is the same as the above two lines\n",
    "            self.size += 1"
   ]
  },
  {
   "cell_type": "code",
   "execution_count": 53,
   "metadata": {
    "state": "normal"
   },
   "outputs": [
    {
     "data": {
      "text/plain": [
       "[9, 8, 7, 6, 5, 4, 3, 2, 1, 0, 0, 1, 2, 3, 4, 5, 6, 7, 8, 9]"
      ]
     },
     "execution_count": 53,
     "metadata": {},
     "output_type": "execute_result"
    }
   ],
   "source": [
    "lst = LinkedList()\n",
    "for i in range(10):\n",
    "    lst.prepend(i)\n",
    "for i in range(10):\n",
    "    lst.append(i)\n",
    "lst"
   ]
  },
  {
   "attachments": {},
   "cell_type": "markdown",
   "metadata": {
    "state": "normal"
   },
   "source": [
    "## 3. Implementing deletion"
   ]
  },
  {
   "attachments": {},
   "cell_type": "markdown",
   "metadata": {
    "state": "normal"
   },
   "source": [
    "### Deleting the head"
   ]
  },
  {
   "cell_type": "code",
   "execution_count": 54,
   "metadata": {
    "state": "normal"
   },
   "outputs": [],
   "source": [
    "class LinkedList (LinkedList):\n",
    "    def del_head(self): # O(1)\n",
    "        assert len(self) > 0\n",
    "        self.head = self.head.next\n",
    "        if self.head is None:\n",
    "            self.tail = None\n",
    "        self.size -= 1"
   ]
  },
  {
   "cell_type": "code",
   "execution_count": 55,
   "metadata": {
    "state": "normal"
   },
   "outputs": [
    {
     "data": {
      "text/plain": [
       "[0, 1, 2, 3, 4, 5, 6, 7, 8, 9]"
      ]
     },
     "execution_count": 55,
     "metadata": {},
     "output_type": "execute_result"
    }
   ],
   "source": [
    "lst = LinkedList()\n",
    "for i in range(10):\n",
    "    lst.append(i)\n",
    "lst"
   ]
  },
  {
   "cell_type": "code",
   "execution_count": 56,
   "metadata": {},
   "outputs": [
    {
     "data": {
      "text/plain": [
       "[1, 2, 3, 4, 5, 6, 7, 8, 9]"
      ]
     },
     "execution_count": 56,
     "metadata": {},
     "output_type": "execute_result"
    }
   ],
   "source": [
    "lst.del_head()\n",
    "lst"
   ]
  },
  {
   "attachments": {},
   "cell_type": "markdown",
   "metadata": {
    "state": "normal"
   },
   "source": [
    "### Deleting the tail"
   ]
  },
  {
   "cell_type": "code",
   "execution_count": 57,
   "metadata": {
    "state": "normal"
   },
   "outputs": [],
   "source": [
    "class LinkedList (LinkedList):\n",
    "    def del_tail(self): # O(N) -- dreadful\n",
    "        assert len(self) > 0\n",
    "        if self.head is self.tail:  #if there's only one node\n",
    "            self.head = self.tail = None\n",
    "            self.size = 0\n",
    "        else:\n",
    "            n = self.head\n",
    "            while n.next is not self.tail:\n",
    "                n = n.next\n",
    "            n.next = None\n",
    "            self.tail = n\n",
    "            self.size -= 1"
   ]
  },
  {
   "cell_type": "code",
   "execution_count": 58,
   "metadata": {
    "state": "normal"
   },
   "outputs": [
    {
     "data": {
      "text/plain": [
       "[0, 1, 2, 3, 4, 5, 6, 7, 8, 9]"
      ]
     },
     "execution_count": 58,
     "metadata": {},
     "output_type": "execute_result"
    }
   ],
   "source": [
    "lst = LinkedList()\n",
    "for i in range(10):\n",
    "    lst.append(i)\n",
    "lst"
   ]
  },
  {
   "cell_type": "code",
   "execution_count": 59,
   "metadata": {},
   "outputs": [
    {
     "data": {
      "text/plain": [
       "[0, 1, 2, 3, 4, 5, 6, 7, 8]"
      ]
     },
     "execution_count": 59,
     "metadata": {},
     "output_type": "execute_result"
    }
   ],
   "source": [
    "lst.del_tail()\n",
    "lst"
   ]
  },
  {
   "attachments": {},
   "cell_type": "markdown",
   "metadata": {
    "state": "normal"
   },
   "source": [
    "## 4. Bidirectional links (Circular, Doubly-linked list) & Sentinel head"
   ]
  },
  {
   "cell_type": "code",
   "execution_count": 60,
   "metadata": {
    "state": "normal"
   },
   "outputs": [],
   "source": [
    "class LinkedList:\n",
    "    class Node:\n",
    "        def __init__(self, val, prior=None, next=None):\n",
    "            self.val = val\n",
    "            self.prior = prior\n",
    "            self.next  = next\n",
    "    \n",
    "    def __init__(self):\n",
    "        # setup for the sentinel node (head) [head will always reference the sentinel now]\n",
    "        self.head = LinkedList.Node(val=None)\n",
    "        self.head.next = self.head.prior = self.head\n",
    "        self.size = 0\n",
    "        \n",
    "    def prepend(self, value):   # O(1)\n",
    "        n = LinkedList.Node(value, prior=self.head, next=self.head.next)\n",
    "        n.next.prior = n    # n is making sure the prior of the next value refers to itself\n",
    "        n.prior.next = n    # so n essentially inserts itself\n",
    "        self.size += 1\n",
    "        \n",
    "    def append(self, value):   # O(1)\n",
    "        n = LinkedList.Node(value, prior=self.head.prior, next=self.head)\n",
    "        n.next.prior = n\n",
    "        n.prior.next = n\n",
    "        self.size += 1\n",
    "\n",
    "    def del_tail(self):   # O(1)\n",
    "        assert len(self) > 0\n",
    "        todel = self.head.prior # locating the last node\n",
    "        todel.prior.next = todel.next   # removing itself by making it skip through todel when iterating\n",
    "        todel.next.prior = todel.prior  # routing around the todel val removes it\n",
    "        self.size -= 1\n",
    "        \n",
    "    def __len__(self):\n",
    "        return self.size\n",
    "        \n",
    "    def __iter__(self):\n",
    "        n = self.head.next\n",
    "        while n is not self.head:\n",
    "            yield n.val\n",
    "            n = n.next\n",
    "    \n",
    "    def __repr__(self):\n",
    "        return '[' + ', '.join(repr(x) for x in self) + ']'"
   ]
  },
  {
   "cell_type": "markdown",
   "metadata": {},
   "source": [
    "This implementation effectively gets rid of edge cases"
   ]
  },
  {
   "cell_type": "code",
   "execution_count": 61,
   "metadata": {
    "state": "normal"
   },
   "outputs": [
    {
     "data": {
      "text/plain": [
       "[9, 8, 7, 6, 5, 4, 3, 2, 1, 0, 0, 1, 2, 3, 4, 5, 6, 7, 8, 9]"
      ]
     },
     "execution_count": 61,
     "metadata": {},
     "output_type": "execute_result"
    }
   ],
   "source": [
    "lst = LinkedList()\n",
    "for i in range(10):\n",
    "    lst.prepend(i)\n",
    "for i in range(10):\n",
    "    lst.append(i)\n",
    "lst"
   ]
  },
  {
   "cell_type": "code",
   "execution_count": 62,
   "metadata": {},
   "outputs": [
    {
     "data": {
      "text/plain": [
       "[9, 8, 7, 6, 5, 4, 3, 2, 1, 0, 0, 1, 2, 3, 4, 5, 6, 7, 8]"
      ]
     },
     "execution_count": 62,
     "metadata": {},
     "output_type": "execute_result"
    }
   ],
   "source": [
    "lst.del_tail()\n",
    "lst"
   ]
  },
  {
   "cell_type": "code",
   "execution_count": 63,
   "metadata": {},
   "outputs": [],
   "source": [
    "class LinkedList (LinkedList):\n",
    "    def __getitem__(self, idx):   # O(N)\n",
    "        assert idx >= 0 and idx < len(self)\n",
    "        n = self.head.next\n",
    "        for _ in range(idx):\n",
    "            n = n.next\n",
    "        return n.val"
   ]
  },
  {
   "cell_type": "code",
   "execution_count": 64,
   "metadata": {},
   "outputs": [
    {
     "name": "stdout",
     "output_type": "stream",
     "text": [
      "0\n",
      "1\n",
      "2\n",
      "3\n",
      "4\n",
      "5\n",
      "6\n",
      "7\n",
      "8\n",
      "9\n"
     ]
    }
   ],
   "source": [
    "lst = LinkedList()\n",
    "for i in range(10):\n",
    "    lst.append(i)\n",
    "\n",
    "for i in range(len(lst)):\n",
    "    print(lst[i])"
   ]
  },
  {
   "attachments": {},
   "cell_type": "markdown",
   "metadata": {
    "state": "normal"
   },
   "source": [
    "## 5. Incorporating a \"cursor\""
   ]
  },
  {
   "cell_type": "code",
   "execution_count": 71,
   "metadata": {
    "state": "normal"
   },
   "outputs": [],
   "source": [
    "class LinkedList:\n",
    "    class Node:\n",
    "        def __init__(self, val, prior=None, next=None):\n",
    "            self.val = val\n",
    "            self.prior = prior\n",
    "            self.next  = next\n",
    "    \n",
    "    def __init__(self):\n",
    "        self.head = self.cursor = LinkedList.Node(None)\n",
    "        self.head.prior = self.head.next = self.head\n",
    "        self.size = 0\n",
    "                \n",
    "    def append(self, value):\n",
    "        n = LinkedList.Node(value, prior=self.head.prior, next=self.head)\n",
    "        n.prior.next = n.next.prior = n\n",
    "        self.size += 1\n",
    "\n",
    "    def __getitem__(self, idx):\n",
    "        assert idx >= 0 and idx < len(self)\n",
    "        n = self.head.next\n",
    "        for _ in range(idx):\n",
    "            n = n.next\n",
    "        return n.val\n",
    "        \n",
    "    def cursor_set(self, idx):  #position the cursor at this specific element\n",
    "        assert idx >= 0 and idx < len(self)\n",
    "        self.cursor = self.head.next\n",
    "        for _ in range(idx):\n",
    "            self.cursor = self.cursor.next\n",
    "    \n",
    "    def cursor_insert(self, value):   # O(1)\n",
    "        assert self.cursor is not self.head\n",
    "        n = LinkedList.Node(value, prior=self.cursor.prior, next=self.cursor)\n",
    "        n.prior.next = n.next.prior = n\n",
    "        self.size += 1\n",
    "    \n",
    "    def cursor_delete(self):   # O(1)\n",
    "        assert self.cursor is not self.head\n",
    "        todel = self.cursor\n",
    "        self.cursor = self.cursor.next\n",
    "        todel.next.prior = todel.prior\n",
    "        todel.prior.next = todel.next\n",
    "        self.size -= 1\n",
    "        \n",
    "    def __len__(self):\n",
    "        return self.size\n",
    "        \n",
    "    def __iter__(self):\n",
    "        n = self.head.next\n",
    "        while n is not self.head:\n",
    "            yield n.val\n",
    "            n = n.next\n",
    "    \n",
    "    def __repr__(self):\n",
    "        return '[' + ', '.join(repr(x) for x in self) + ']'"
   ]
  },
  {
   "cell_type": "code",
   "execution_count": 1,
   "metadata": {},
   "outputs": [
    {
     "ename": "IndexError",
     "evalue": "list assignment index out of range",
     "output_type": "error",
     "traceback": [
      "\u001b[0;31m---------------------------------------------------------------------------\u001b[0m",
      "\u001b[0;31mIndexError\u001b[0m                                Traceback (most recent call last)",
      "Cell \u001b[0;32mIn[1], line 2\u001b[0m\n\u001b[1;32m      1\u001b[0m l \u001b[38;5;241m=\u001b[39m []\n\u001b[0;32m----> 2\u001b[0m \u001b[43ml\u001b[49m\u001b[43m[\u001b[49m\u001b[38;5;241;43m0\u001b[39;49m\u001b[43m]\u001b[49m \u001b[38;5;241m=\u001b[39m \u001b[38;5;241m1\u001b[39m\n\u001b[1;32m      3\u001b[0m l\n",
      "\u001b[0;31mIndexError\u001b[0m: list assignment index out of range"
     ]
    }
   ],
   "source": [
    "l = []\n",
    "l[0] = 1\n",
    "l"
   ]
  },
  {
   "cell_type": "code",
   "execution_count": 72,
   "metadata": {
    "state": "normal"
   },
   "outputs": [
    {
     "data": {
      "text/plain": [
       "[0, 1, 2, 3, 4, 5, 6, 7, 8, 9]"
      ]
     },
     "execution_count": 72,
     "metadata": {},
     "output_type": "execute_result"
    }
   ],
   "source": [
    "lst = LinkedList()\n",
    "for i in range(10):\n",
    "    lst.append(i)\n",
    "lst"
   ]
  },
  {
   "cell_type": "code",
   "execution_count": 73,
   "metadata": {
    "state": "normal"
   },
   "outputs": [
    {
     "data": {
      "text/plain": [
       "[0, 1, 2, 3, 'a', 'b', 'c', 'd', 4, 5, 6, 7, 8, 9]"
      ]
     },
     "execution_count": 73,
     "metadata": {},
     "output_type": "execute_result"
    }
   ],
   "source": [
    "lst.cursor_set(4)\n",
    "for x in 'abcd':\n",
    "    lst.cursor_insert(x)\n",
    "lst"
   ]
  },
  {
   "cell_type": "code",
   "execution_count": 74,
   "metadata": {
    "state": "normal"
   },
   "outputs": [
    {
     "data": {
      "text/plain": [
       "[0, 1, 2, 3, 'a', 'b', 'c', 'd', 8, 9]"
      ]
     },
     "execution_count": 74,
     "metadata": {},
     "output_type": "execute_result"
    }
   ],
   "source": [
    "lst.cursor_set(8)\n",
    "for _ in range(4):\n",
    "    lst.cursor_delete()\n",
    "lst"
   ]
  },
  {
   "attachments": {},
   "cell_type": "markdown",
   "metadata": {},
   "source": [
    "## 6. Search?"
   ]
  },
  {
   "attachments": {},
   "cell_type": "markdown",
   "metadata": {},
   "source": [
    "Linear search with $O(N)$ is the only option when the list is unsorted, but we previously implemented binary search, which runs in $O(\\log N)$ time given a sorted list as input.\n",
    "\n",
    "Does this extend to linked lists?"
   ]
  },
  {
   "cell_type": "code",
   "execution_count": 75,
   "metadata": {},
   "outputs": [],
   "source": [
    "def contains(lst, x):\n",
    "    lo = 0\n",
    "    hi = len(lst)-1\n",
    "    while lo <= hi: \n",
    "        mid = (lo + hi) // 2\n",
    "        if x < lst[mid]:\n",
    "            hi = mid - 1\n",
    "        elif x > lst[mid]:\n",
    "            lo = mid + 1\n",
    "        else:\n",
    "            return True\n",
    "    else:\n",
    "        return False"
   ]
  },
  {
   "cell_type": "code",
   "execution_count": 76,
   "metadata": {},
   "outputs": [
    {
     "data": {
      "image/png": "[encoded data removed]",
      "text/plain": [
       "<Figure size 640x480 with 1 Axes>"
      ]
     },
     "metadata": {},
     "output_type": "display_data"
    }
   ],
   "source": [
    "import timeit\n",
    "import matplotlib.pyplot as plt\n",
    "import numpy as np\n",
    "\n",
    "# runtimes when searching for different values in a fixed-size list\n",
    "\n",
    "def build_sorted_llist(n):\n",
    "    lst = LinkedList()\n",
    "    for x in range(n):\n",
    "        lst.append(x)\n",
    "    return lst\n",
    "    \n",
    "ts = [timeit.timeit(stmt=f'contains(lst, {x})', \n",
    "                    setup='lst = build_sorted_llist(100)',\n",
    "                    globals=globals(), \n",
    "                    number=100)\n",
    "      for x in range(100)]\n",
    "\n",
    "plt.plot(range(100), ts, 'or');"
   ]
  },
  {
   "cell_type": "code",
   "execution_count": 77,
   "metadata": {},
   "outputs": [
    {
     "data": {
      "image/png": "[encoded data removed]",
      "text/plain": [
       "<Figure size 640x480 with 1 Axes>"
      ]
     },
     "metadata": {},
     "output_type": "display_data"
    }
   ],
   "source": [
    "# runtimes when searching for an edge-value in lists of increasing size\n",
    "\n",
    "ns = np.linspace(10, 1000, 50, dtype=int)\n",
    "ts = [timeit.timeit('contains(lst, 0)', \n",
    "                    setup=f'lst=build_sorted_llist({n})',\n",
    "                    globals=globals(),\n",
    "                    number=1000)\n",
    "      for n in ns]\n",
    "\n",
    "plt.plot(ns, ts, 'or');"
   ]
  },
  {
   "attachments": {},
   "cell_type": "markdown",
   "metadata": {
    "state": "normal"
   },
   "source": [
    "## 7. Runtime analysis"
   ]
  },
  {
   "attachments": {},
   "cell_type": "markdown",
   "metadata": {
    "state": "normal"
   },
   "source": [
    "Runtime complexities for circular, doubly-linked list of $N$ elements:\n",
    "\n",
    "- Indexing (position-based access) = $O(N)$\n",
    "- Search (unsorted) = $O(N)$\n",
    "- Search (sorted) = $O(N)$\n",
    "- Prepend = $O(1)$\n",
    "- Append = $O(1)$\n",
    "- Insertion (at arbitrary position): indexing ($O(N)$) + insertion ($O(1)$) = $O(N)$\n",
    "- Deletion (at arbitrary position): indexing ($O(N)$) + deletion ($O(1)$) = $O(N)$"
   ]
  }
 ],
 "metadata": {
  "kernelspec": {
   "display_name": "Python 3",
   "language": "python",
   "name": "python3"
  },
  "language_info": {
   "codemirror_mode": {
    "name": "ipython",
    "version": 3
   },
   "file_extension": ".py",
   "mimetype": "text/x-python",
   "name": "python",
   "nbconvert_exporter": "python",
   "pygments_lexer": "ipython3",
   "version": "3.10.13"
  },
  "mimir": {
   "data": {},
   "last_submission_id": "",
   "project_id": "41bee725-65ca-4c92-94b2-996780a0138c"
  },
  "varInspector": {
   "cols": {
    "lenName": 16,
    "lenType": 16,
    "lenVar": 40
   },
   "kernels_config": {
    "python": {
     "delete_cmd_postfix": "",
     "delete_cmd_prefix": "del ",
     "library": "var_list.py",
     "varRefreshCmd": "print(var_dic_list())"
    },
    "r": {
     "delete_cmd_postfix": ") ",
     "delete_cmd_prefix": "rm(",
     "library": "var_list.r",
     "varRefreshCmd": "cat(var_dic_list()) "
    }
   },
   "types_to_exclude": [
    "module",
    "function",
    "builtin_function_or_method",
    "instance",
    "_Feature"
   ],
   "window_display": false
  }
 },
 "nbformat": 4,
 "nbformat_minor": 4
}
