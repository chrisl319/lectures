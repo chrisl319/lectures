{
 "cells": [
  {
   "attachments": {},
   "cell_type": "markdown",
   "metadata": {
    "state": "normal"
   },
   "source": [
    "# Priority Queue\n",
    "\n",
    "## Agenda\n",
    "\n",
    "1. \"Priority Queue\"\n",
    "2. Naive implementation\n",
    "3. Heap\n",
    "    - Mechanics\n",
    "    - Implementation\n",
    "    - Run-time Analysis\n",
    "4. Heap Construction\n",
    "5. Heapsort"
   ]
  },
  {
   "attachments": {},
   "cell_type": "markdown",
   "metadata": {},
   "source": [
    "## 1. Priority Queue\n",
    "\n",
    "The priority queue ADT is similar to a queue, in that values are conceptually added to one end and taken out another. Values are not dequeued from a priority queue in FIFO order, however. Instead, each value in a priority queue has an implicit \"priority\", and the *value with maximum priority is always dequeued first*, regardless of when it was enqueued. "
   ]
  },
  {
   "attachments": {},
   "cell_type": "markdown",
   "metadata": {
    "state": "normal"
   },
   "source": [
    "## 2. Naive implementation"
   ]
  },
  {
   "cell_type": "code",
   "execution_count": null,
   "metadata": {
    "state": "normal",
    "tags": []
   },
   "outputs": [],
   "source": [
    "class PriorityQueue:\n",
    "    def __init__(self):\n",
    "        self.data = []\n",
    "        \n",
    "    def add(self, x):\n",
    "        pass\n",
    "    \n",
    "    def max(self):\n",
    "        assert len(self) > 0\n",
    "        \n",
    "    def pop_max(self):\n",
    "        assert len(self) > 0\n",
    "    \n",
    "    def __bool__(self):\n",
    "        return len(self.data) > 0\n",
    "\n",
    "    def __len__(self):\n",
    "        return len(self.data)\n",
    "\n",
    "    def __repr__(self):\n",
    "        return repr(self.data)"
   ]
  },
  {
   "cell_type": "code",
   "execution_count": null,
   "metadata": {},
   "outputs": [],
   "source": [
    "import random\n",
    "\n",
    "pq = PriorityQueue()\n",
    "\n",
    "for _ in range(10):\n",
    "    pq.add(random.randrange(1000))"
   ]
  },
  {
   "cell_type": "code",
   "execution_count": null,
   "metadata": {},
   "outputs": [],
   "source": [
    "pq"
   ]
  },
  {
   "cell_type": "code",
   "execution_count": null,
   "metadata": {},
   "outputs": [],
   "source": [
    "pq.max()"
   ]
  },
  {
   "cell_type": "code",
   "execution_count": null,
   "metadata": {},
   "outputs": [],
   "source": [
    "while pq:\n",
    "    print(pq.pop_max())"
   ]
  },
  {
   "cell_type": "code",
   "execution_count": null,
   "metadata": {},
   "outputs": [],
   "source": [
    "pq = PriorityQueue()\n",
    "\n",
    "for _ in range(10):\n",
    "    pq.add(random.randrange(1000))\n",
    "\n",
    "for _ in range(10):\n",
    "    pq.add(random.randrange(1000))\n",
    "    print(pq)\n",
    "    print(pq.pop_max())"
   ]
  },
  {
   "attachments": {},
   "cell_type": "markdown",
   "metadata": {
    "state": "normal"
   },
   "source": [
    "## 3. Heap"
   ]
  },
  {
   "attachments": {},
   "cell_type": "markdown",
   "metadata": {},
   "source": [
    "A heap is an implementation of a priority queue that imposes a *partial ordering* on its contents. A heap takes the form of a *complete binary tree* where every node adheres to the *heap property*, i.e., that the value in a given node is the maximum value in the subtree of which it is the root."
   ]
  },
  {
   "attachments": {},
   "cell_type": "markdown",
   "metadata": {
    "state": "normal"
   },
   "source": [
    "### Mechanics"
   ]
  },
  {
   "attachments": {},
   "cell_type": "markdown",
   "metadata": {},
   "source": [
    "The heap property is maintained across insertions and removals by way of the \"bubble up\" and \"trickle down\" algorithms.\n",
    "\n",
    "![](images/heap-mechanics.jpg)\n",
    "\n",
    "Note that the \"trickle down\" algorithm can also be thought of as a way of \"re-heapifying\" a tree where all nodes but the root obey the heap property."
   ]
  },
  {
   "attachments": {},
   "cell_type": "markdown",
   "metadata": {
    "state": "normal"
   },
   "source": [
    "### Implementation"
   ]
  },
  {
   "cell_type": "code",
   "execution_count": 5,
   "metadata": {
    "state": "normal",
    "tags": []
   },
   "outputs": [],
   "source": [
    "class Heap:\n",
    "    def __init__(self):\n",
    "        self.data = []\n",
    "\n",
    "    @staticmethod   # this is just additional information for the interpreter (means the method won't be called with a self argument)\n",
    "    def _parent(idx):\n",
    "        return (idx - 1) // 2\n",
    "    \n",
    "    @staticmethod\n",
    "    def _left(idx):\n",
    "        return idx * 2 + 1\n",
    "    \n",
    "    @staticmethod\n",
    "    def _right(idx):\n",
    "        return idx * 2 + 2\n",
    "\n",
    "    def add(self, x):     # O(logN)\n",
    "        # adds a new node at the furthest right position at the lowest level of the tree\n",
    "        # which is also the last slot in the array\n",
    "        # we then bubble up to make it a complete tree\n",
    "        self.data.append(x)\n",
    "        \n",
    "        idx = len(self.data) - 1\n",
    "        while idx > 0:\n",
    "            pidx = Heap._parent(idx)\n",
    "            if self.data[idx] > self.data[pidx]:\n",
    "                self.data[idx], self.data[pidx] = self.data[pidx], self.data[idx]\n",
    "                idx = pidx\n",
    "            else:\n",
    "                break\n",
    "    \n",
    "    def max(self):     # O(1)\n",
    "        assert len(self) > 0\n",
    "        return self.data[0]     # the max is at the root!\n",
    "    \n",
    "    def _heapify(self, idx):    # implements the trickle down method, starting at idx\n",
    "        while idx < len(self.data):     # O(logN)\n",
    "            maxidx = idx\n",
    "            lidx = Heap._left(idx)      # these two indexes need to be checked for validity\n",
    "            ridx = Heap._right(idx)\n",
    "            if lidx < len(self.data) and self.data[idx] < self.data[lidx]:\n",
    "                maxidx = lidx\n",
    "            if ridx < len(self.data) and self.data[maxidx] < self.data[ridx]:\n",
    "                maxidx = ridx\n",
    "            if maxidx != idx:   # if the max is not the parent, we need to trickle it down\n",
    "                self.data[idx], self.data[maxidx] = self.data[maxidx], self.data[idx]\n",
    "                idx = maxidx\n",
    "            else:\n",
    "                break\n",
    "\n",
    "    def pop_max(self):     # O(logN)\n",
    "        # replaces root node value with the right-most value of the lowest level\n",
    "        # then heapifys the tree to make it complete again\n",
    "        assert len(self) > 0\n",
    "        ret = self.data[0]\n",
    "\n",
    "        self.data[0] = self.data[-1]\n",
    "        del self.data[-1]\n",
    "\n",
    "        self._heapify(0)     # O(logN) everything above takes constant time\n",
    "        return ret\n",
    "            \n",
    "\n",
    "    def __bool__(self):\n",
    "        return len(self.data) > 0\n",
    "\n",
    "    def __len__(self):\n",
    "        return len(self.data)\n",
    "\n",
    "    def __repr__(self):\n",
    "        return repr(self.data)"
   ]
  },
  {
   "cell_type": "code",
   "execution_count": 6,
   "metadata": {
    "state": "normal",
    "tags": []
   },
   "outputs": [],
   "source": [
    "import random\n",
    "\n",
    "h = Heap()\n",
    "\n",
    "vals = random.sample(range(100), 10) # ensure unique values\n",
    "for x in vals:\n",
    "    h.add(x)"
   ]
  },
  {
   "cell_type": "code",
   "execution_count": 3,
   "metadata": {
    "state": "normal"
   },
   "outputs": [
    {
     "data": {
      "text/plain": [
       "[75, 72, 62, 49, 48, 30, 39, 31, 36, 34]"
      ]
     },
     "execution_count": 3,
     "metadata": {},
     "output_type": "execute_result"
    }
   ],
   "source": [
    "h"
   ]
  },
  {
   "cell_type": "code",
   "execution_count": 4,
   "metadata": {},
   "outputs": [
    {
     "data": {
      "text/plain": [
       "75"
      ]
     },
     "execution_count": 4,
     "metadata": {},
     "output_type": "execute_result"
    }
   ],
   "source": [
    "h.max()"
   ]
  },
  {
   "cell_type": "code",
   "execution_count": 7,
   "metadata": {
    "state": "normal"
   },
   "outputs": [
    {
     "name": "stdout",
     "output_type": "stream",
     "text": [
      "[87, 74, 58, 52, 39, 25, 55, 23, 27, 36]\n",
      "87\n",
      "[74, 52, 58, 36, 39, 25, 55, 23, 27]\n",
      "74\n",
      "[58, 52, 55, 36, 39, 25, 27, 23]\n",
      "58\n",
      "[55, 52, 27, 36, 39, 25, 23]\n",
      "55\n",
      "[52, 39, 27, 36, 23, 25]\n",
      "52\n",
      "[39, 36, 27, 25, 23]\n",
      "39\n",
      "[36, 25, 27, 23]\n",
      "36\n",
      "[27, 25, 23]\n",
      "27\n",
      "[25, 23]\n",
      "25\n",
      "[23]\n",
      "23\n",
      "[]\n"
     ]
    }
   ],
   "source": [
    "print(h)\n",
    "while h:\n",
    "    print(h.pop_max())\n",
    "    print(h)"
   ]
  },
  {
   "attachments": {},
   "cell_type": "markdown",
   "metadata": {
    "state": "normal"
   },
   "source": [
    "### Run-time Analysis"
   ]
  },
  {
   "attachments": {},
   "cell_type": "markdown",
   "metadata": {},
   "source": [
    "![](images/heap-runtime.jpg)"
   ]
  },
  {
   "attachments": {},
   "cell_type": "markdown",
   "metadata": {},
   "source": [
    "I.e., when adding or removing elements from a heap, we need to carry out at most $O(h)$ operations, where $h$ is the number of levels in the heap, to ensure the heap property is established throughout. Since the heap takes the form of a complete binary tree, and the height $h$ of the tree is $O(\\log N)$, where $N$ is the number of elements in the tree, we conclude that **the add and remove heap operations are both $O(\\log N)$**."
   ]
  },
  {
   "attachments": {},
   "cell_type": "markdown",
   "metadata": {
    "state": "normal"
   },
   "source": [
    "## 4. Heap Construction"
   ]
  },
  {
   "attachments": {},
   "cell_type": "markdown",
   "metadata": {},
   "source": [
    "If we construct a heap of $N$ elements by simply calling `add` $N$ times, it is easy to see that this approach has $O(N \\log N)$ runtime complexity.\n",
    "\n",
    "Can we do better?"
   ]
  },
  {
   "attachments": {},
   "cell_type": "markdown",
   "metadata": {
    "tags": []
   },
   "source": [
    "Yes! If we are given a list of $N$ values from which to construct a heap, we start by observing that we can interpret the list as the representation of a complete binary tree. In this tree, the only values that may violate the heap property are those found in *internal nodes* (i.e., nodes with at least 1 child).\n",
    "\n",
    "Recall that if we are given a complete tree where only the root node violates the heap property, we can re-heapify it by applying the trickle-down algorithm starting at the root.\n",
    "\n",
    "Therefore, to build a heap out of a list, we need only apply the trickle-down algorithm to each node starting at the deepest, right-most internal node, all the way up until we hit the root."
   ]
  },
  {
   "attachments": {},
   "cell_type": "markdown",
   "metadata": {
    "tags": []
   },
   "source": [
    "![](images/heap-building.jpg)"
   ]
  },
  {
   "attachments": {},
   "cell_type": "markdown",
   "metadata": {},
   "source": [
    "In a tree with $N$ total nodes, there are only $\\lfloor \\frac{N-1}{2} \\rfloor$ internal nodes, which means that we only need to apply the trickle-down algorithm to roughly *half* of the nodes in the tree. Note, also, that the runtime complexity of trickle-down depends on the height of the node, which only matches the height of the tree at the root. We will not prove this, but building a heap using this approach yields an algorithm with a runtime complexity of $O(N)$."
   ]
  },
  {
   "cell_type": "code",
   "execution_count": 7,
   "metadata": {
    "state": "normal",
    "tags": []
   },
   "outputs": [],
   "source": [
    "class Heap(Heap):\n",
    "    def __init__(self, iterable=None):\n",
    "        if not iterable:\n",
    "            self.data = []\n",
    "        else:\n",
    "            self.data = list(iterable)\n",
    "            # we want to perform the heap construction trick described above\n",
    "            idx = Heap._parent(len(self.data)-1)    # index of the deepest internal node\n",
    "            for i in range(idx, -1, -1):    # O(N)\n",
    "                self._heapify(i)"
   ]
  },
  {
   "cell_type": "code",
   "execution_count": 8,
   "metadata": {
    "state": "normal",
    "tags": []
   },
   "outputs": [],
   "source": [
    "import random\n",
    "\n",
    "h = Heap()\n",
    "\n",
    "vals = random.sample(range(100), 10)\n",
    "for x in vals:\n",
    "    h.add(x)"
   ]
  },
  {
   "cell_type": "code",
   "execution_count": 10,
   "metadata": {
    "state": "normal"
   },
   "outputs": [
    {
     "data": {
      "text/plain": [
       "[99, 88, 58, 60, 71, 0, 48, 16, 49, 22]"
      ]
     },
     "execution_count": 10,
     "metadata": {},
     "output_type": "execute_result"
    }
   ],
   "source": [
    "h"
   ]
  },
  {
   "cell_type": "code",
   "execution_count": 11,
   "metadata": {
    "state": "normal"
   },
   "outputs": [
    {
     "name": "stdout",
     "output_type": "stream",
     "text": [
      "99\n",
      "88\n",
      "71\n",
      "60\n",
      "58\n",
      "49\n",
      "48\n",
      "22\n",
      "16\n",
      "0\n"
     ]
    }
   ],
   "source": [
    "while h:\n",
    "    print(h.pop_max())"
   ]
  },
  {
   "cell_type": "code",
   "execution_count": 12,
   "metadata": {},
   "outputs": [
    {
     "name": "stdout",
     "output_type": "stream",
     "text": [
      "75\n",
      "59\n",
      "53\n",
      "49\n",
      "46\n",
      "45\n",
      "25\n",
      "18\n",
      "6\n",
      "5\n"
     ]
    }
   ],
   "source": [
    "h = Heap(random.sample(range(100), 10)) # use the new heap initializer\n",
    "\n",
    "while h:\n",
    "    print(h.pop_max())"
   ]
  },
  {
   "attachments": {},
   "cell_type": "markdown",
   "metadata": {},
   "source": [
    "## 5. Heapsort\n",
    "\n",
    "We can use a heap to implement an efficient sorting algorithm: heapsort!"
   ]
  },
  {
   "cell_type": "code",
   "execution_count": 9,
   "metadata": {
    "state": "normal",
    "tags": []
   },
   "outputs": [],
   "source": [
    "def heapsort(iterable):\n",
    "    h = Heap(iterable)\n",
    "    l = []\n",
    "    while h:\n",
    "        l.append(h.pop_max)\n",
    "    l.reverse()\n",
    "    return l"
   ]
  },
  {
   "cell_type": "code",
   "execution_count": 10,
   "metadata": {
    "state": "normal",
    "tags": []
   },
   "outputs": [
    {
     "data": {
      "image/png": "[encoded data removed]",
      "text/plain": [
       "<Figure size 640x480 with 1 Axes>"
      ]
     },
     "metadata": {},
     "output_type": "display_data"
    }
   ],
   "source": [
    "import matplotlib.pyplot as plt\n",
    "import numpy as np\n",
    "\n",
    "lst = list(range(100))\n",
    "random.shuffle(lst)\n",
    "plt.plot(lst, 'ro');"
   ]
  },
  {
   "cell_type": "code",
   "execution_count": 11,
   "metadata": {
    "state": "normal",
    "tags": []
   },
   "outputs": [
    {
     "ename": "",
     "evalue": "",
     "output_type": "error",
     "traceback": [
      "\u001b[1;31mThe Kernel crashed while executing code in the current cell or a previous cell. \n",
      "\u001b[1;31mPlease review the code in the cell(s) to identify a possible cause of the failure. \n",
      "\u001b[1;31mClick <a href='https://aka.ms/vscodeJupyterKernelCrash'>here</a> for more info. \n",
      "\u001b[1;31mView Jupyter <a href='command:jupyter.viewOutput'>log</a> for further details."
     ]
    }
   ],
   "source": [
    "plt.plot(heapsort(lst), 'ro');"
   ]
  },
  {
   "cell_type": "code",
   "execution_count": null,
   "metadata": {},
   "outputs": [],
   "source": [
    "def insertion_sort(lst):\n",
    "    for i in range(1, len(lst)):\n",
    "        for j in range(i, 0, -1):\n",
    "            if lst[j-1] > lst[j]:\n",
    "                lst[j-1], lst[j] = lst[j], lst[j-1] # swap\n",
    "            else:\n",
    "                break"
   ]
  },
  {
   "cell_type": "code",
   "execution_count": null,
   "metadata": {},
   "outputs": [],
   "source": [
    "import timeit\n",
    "\n",
    "def time_insertionsort(n):\n",
    "    return timeit.timeit('insertion_sort(lst)',\n",
    "                         f'lst = random.sample(range(1_000_000), {n})',\n",
    "                         globals=globals(),\n",
    "                         number=1)\n",
    "\n",
    "def time_heapsort(n):\n",
    "    return timeit.timeit('heapsort(lst)',\n",
    "                         f'lst = random.sample(range(1_000_000), {n})',\n",
    "                         globals=globals(),\n",
    "                         number=1)"
   ]
  },
  {
   "cell_type": "code",
   "execution_count": null,
   "metadata": {
    "state": "normal"
   },
   "outputs": [],
   "source": [
    "ns = np.linspace(100, 2000, 50, dtype=np.int_)\n",
    "plt.plot(ns, [time_insertionsort(n) for n in ns], 'ro')\n",
    "plt.plot(ns, [time_heapsort(n) for n in ns], 'b^');"
   ]
  },
  {
   "cell_type": "code",
   "execution_count": null,
   "metadata": {
    "state": "normal"
   },
   "outputs": [],
   "source": [
    "ns = np.linspace(100, 10000, 50, dtype=np.int_)\n",
    "plt.plot(ns, [time_heapsort(n) for n in ns], 'b^');"
   ]
  },
  {
   "attachments": {},
   "cell_type": "markdown",
   "metadata": {},
   "source": [
    "Heapsort is the first sorting algorithm we've encountered with $O(N \\log N)$."
   ]
  }
 ],
 "metadata": {
  "kernelspec": {
   "display_name": "Python 3",
   "language": "python",
   "name": "python3"
  },
  "language_info": {
   "codemirror_mode": {
    "name": "ipython",
    "version": 3
   },
   "file_extension": ".py",
   "mimetype": "text/x-python",
   "name": "python",
   "nbconvert_exporter": "python",
   "pygments_lexer": "ipython3",
   "version": "3.10.13"
  },
  "mimir": {
   "data": {},
   "last_submission_id": "",
   "project_id": "cd081cc2-3118-4acf-abe4-cfe5215cf9e7"
  },
  "toc-autonumbering": false,
  "toc-showcode": true,
  "toc-showmarkdowntxt": false,
  "varInspector": {
   "cols": {
    "lenName": 16,
    "lenType": 16,
    "lenVar": 40
   },
   "kernels_config": {
    "python": {
     "delete_cmd_postfix": "",
     "delete_cmd_prefix": "del ",
     "library": "var_list.py",
     "varRefreshCmd": "print(var_dic_list())"
    },
    "r": {
     "delete_cmd_postfix": ") ",
     "delete_cmd_prefix": "rm(",
     "library": "var_list.r",
     "varRefreshCmd": "cat(var_dic_list()) "
    }
   },
   "types_to_exclude": [
    "module",
    "function",
    "builtin_function_or_method",
    "instance",
    "_Feature"
   ],
   "window_display": false
  }
 },
 "nbformat": 4,
 "nbformat_minor": 4
}
